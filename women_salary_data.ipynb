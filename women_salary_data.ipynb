{
  "nbformat": 4,
  "nbformat_minor": 0,
  "metadata": {
    "colab": {
      "name": "women_salary_data.ipynb",
      "provenance": [],
      "collapsed_sections": [],
      "include_colab_link": true
    },
    "kernelspec": {
      "name": "python3",
      "display_name": "Python 3"
    }
  },
  "cells": [
    {
      "cell_type": "markdown",
      "metadata": {
        "id": "view-in-github",
        "colab_type": "text"
      },
      "source": [
        "<a href=\"https://colab.research.google.com/github/sghenimi/ScratchML/blob/master/women_salary_data.ipynb\" target=\"_parent\"><img src=\"https://colab.research.google.com/assets/colab-badge.svg\" alt=\"Open In Colab\"/></a>"
      ]
    },
    {
      "cell_type": "code",
      "metadata": {
        "id": "NsmawJujLyq-",
        "colab_type": "code",
        "colab": {}
      },
      "source": [
        "import pandas as pd"
      ],
      "execution_count": 0,
      "outputs": []
    },
    {
      "cell_type": "code",
      "metadata": {
        "id": "PHWVZXQvUazi",
        "colab_type": "code",
        "colab": {}
      },
      "source": [
        "df = pd.read_csv('https://bit.ly/2S8EHj3', ',')"
      ],
      "execution_count": 0,
      "outputs": []
    },
    {
      "cell_type": "code",
      "metadata": {
        "id": "Y0Od3O4HUqTO",
        "colab_type": "code",
        "colab": {
          "base_uri": "https://localhost:8080/",
          "height": 204
        },
        "outputId": "e10fa6d5-a9e4-472d-9750-9994d05fa9f7"
      },
      "source": [
        "df.head()"
      ],
      "execution_count": 5,
      "outputs": [
        {
          "output_type": "execute_result",
          "data": {
            "text/html": [
              "<div>\n",
              "<style scoped>\n",
              "    .dataframe tbody tr th:only-of-type {\n",
              "        vertical-align: middle;\n",
              "    }\n",
              "\n",
              "    .dataframe tbody tr th {\n",
              "        vertical-align: top;\n",
              "    }\n",
              "\n",
              "    .dataframe thead th {\n",
              "        text-align: right;\n",
              "    }\n",
              "</style>\n",
              "<table border=\"1\" class=\"dataframe\">\n",
              "  <thead>\n",
              "    <tr style=\"text-align: right;\">\n",
              "      <th></th>\n",
              "      <th>Category</th>\n",
              "      <th>Occupation</th>\n",
              "      <th>All_workers</th>\n",
              "      <th>All_weekly</th>\n",
              "      <th>M_workers</th>\n",
              "      <th>M_weekly</th>\n",
              "      <th>F_workers</th>\n",
              "      <th>F_weekly</th>\n",
              "    </tr>\n",
              "  </thead>\n",
              "  <tbody>\n",
              "    <tr>\n",
              "      <th>0</th>\n",
              "      <td>MANAGEMENT</td>\n",
              "      <td>Chief executives</td>\n",
              "      <td>1046</td>\n",
              "      <td>2041</td>\n",
              "      <td>763</td>\n",
              "      <td>2251</td>\n",
              "      <td>283</td>\n",
              "      <td>1836</td>\n",
              "    </tr>\n",
              "    <tr>\n",
              "      <th>1</th>\n",
              "      <td>MANAGEMENT</td>\n",
              "      <td>General and operations managers</td>\n",
              "      <td>823</td>\n",
              "      <td>1260</td>\n",
              "      <td>621</td>\n",
              "      <td>1347</td>\n",
              "      <td>202</td>\n",
              "      <td>1002</td>\n",
              "    </tr>\n",
              "    <tr>\n",
              "      <th>2</th>\n",
              "      <td>MANAGEMENT</td>\n",
              "      <td>Legislators</td>\n",
              "      <td>8</td>\n",
              "      <td>Na</td>\n",
              "      <td>5</td>\n",
              "      <td>Na</td>\n",
              "      <td>4</td>\n",
              "      <td>Na</td>\n",
              "    </tr>\n",
              "    <tr>\n",
              "      <th>3</th>\n",
              "      <td>MANAGEMENT</td>\n",
              "      <td>Advertising and promotions managers</td>\n",
              "      <td>55</td>\n",
              "      <td>1050</td>\n",
              "      <td>29</td>\n",
              "      <td>Na</td>\n",
              "      <td>26</td>\n",
              "      <td>Na</td>\n",
              "    </tr>\n",
              "    <tr>\n",
              "      <th>4</th>\n",
              "      <td>MANAGEMENT</td>\n",
              "      <td>Marketing and sales managers</td>\n",
              "      <td>948</td>\n",
              "      <td>1462</td>\n",
              "      <td>570</td>\n",
              "      <td>1603</td>\n",
              "      <td>378</td>\n",
              "      <td>1258</td>\n",
              "    </tr>\n",
              "  </tbody>\n",
              "</table>\n",
              "</div>"
            ],
            "text/plain": [
              "     Category                           Occupation  ...  F_workers F_weekly\n",
              "0  MANAGEMENT                     Chief executives  ...        283     1836\n",
              "1  MANAGEMENT      General and operations managers  ...        202     1002\n",
              "2  MANAGEMENT                          Legislators  ...          4       Na\n",
              "3  MANAGEMENT  Advertising and promotions managers  ...         26       Na\n",
              "4  MANAGEMENT         Marketing and sales managers  ...        378     1258\n",
              "\n",
              "[5 rows x 8 columns]"
            ]
          },
          "metadata": {
            "tags": []
          },
          "execution_count": 5
        }
      ]
    },
    {
      "cell_type": "code",
      "metadata": {
        "id": "JPh8R_rLWv1g",
        "colab_type": "code",
        "colab": {}
      },
      "source": [
        ""
      ],
      "execution_count": 0,
      "outputs": []
    }
  ]
}