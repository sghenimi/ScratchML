{
  "nbformat": 4,
  "nbformat_minor": 0,
  "metadata": {
    "colab": {
      "name": "women_salary_data.ipynb",
      "provenance": [],
      "collapsed_sections": [],
      "include_colab_link": true
    },
    "kernelspec": {
      "name": "python3",
      "display_name": "Python 3"
    }
  },
  "cells": [
    {
      "cell_type": "markdown",
      "metadata": {
        "id": "view-in-github",
        "colab_type": "text"
      },
      "source": [
        "<a href=\"https://colab.research.google.com/github/sghenimi/ScratchML/blob/master/women_salary_data.ipynb\" target=\"_parent\"><img src=\"https://colab.research.google.com/assets/colab-badge.svg\" alt=\"Open In Colab\"/></a>"
      ]
    },
    {
      "cell_type": "code",
      "metadata": {
        "id": "NsmawJujLyq-",
        "colab_type": "code",
        "colab": {}
      },
      "source": [
        "import pandas as pd"
      ],
      "execution_count": 0,
      "outputs": []
    },
    {
      "cell_type": "code",
      "metadata": {
        "id": "PHWVZXQvUazi",
        "colab_type": "code",
        "colab": {}
      },
      "source": [
        "df = pd.read_csv('https://bit.ly/2S8EHj3', ',')"
      ],
      "execution_count": 0,
      "outputs": []
    },
    {
      "cell_type": "code",
      "metadata": {
        "id": "Y0Od3O4HUqTO",
        "colab_type": "code",
        "colab": {
          "base_uri": "https://localhost:8080/",
          "height": 204
        },
        "outputId": "e10fa6d5-a9e4-472d-9750-9994d05fa9f7"
      },
      "source": [
        "df.head()"
      ],
      "execution_count": 5,
      "outputs": [
        {
          "output_type": "execute_result",
          "data": {
            "text/html": [
              "<div>\n",
              "<style scoped>\n",
              "    .dataframe tbody tr th:only-of-type {\n",
              "        vertical-align: middle;\n",
              "    }\n",
              "\n",
              "    .dataframe tbody tr th {\n",
              "        vertical-align: top;\n",
              "    }\n",
              "\n",
              "    .dataframe thead th {\n",
              "        text-align: right;\n",
              "    }\n",
              "</style>\n",
              "<table border=\"1\" class=\"dataframe\">\n",
              "  <thead>\n",
              "    <tr style=\"text-align: right;\">\n",
              "      <th></th>\n",
              "      <th>Category</th>\n",
              "      <th>Occupation</th>\n",
              "      <th>All_workers</th>\n",
              "      <th>All_weekly</th>\n",
              "      <th>M_workers</th>\n",
              "      <th>M_weekly</th>\n",
              "      <th>F_workers</th>\n",
              "      <th>F_weekly</th>\n",
              "    </tr>\n",
              "  </thead>\n",
              "  <tbody>\n",
              "    <tr>\n",
              "      <th>0</th>\n",
              "      <td>MANAGEMENT</td>\n",
              "      <td>Chief executives</td>\n",
              "      <td>1046</td>\n",
              "      <td>2041</td>\n",
              "      <td>763</td>\n",
              "      <td>2251</td>\n",
              "      <td>283</td>\n",
              "      <td>1836</td>\n",
              "    </tr>\n",
              "    <tr>\n",
              "      <th>1</th>\n",
              "      <td>MANAGEMENT</td>\n",
              "      <td>General and operations managers</td>\n",
              "      <td>823</td>\n",
              "      <td>1260</td>\n",
              "      <td>621</td>\n",
              "      <td>1347</td>\n",
              "      <td>202</td>\n",
              "      <td>1002</td>\n",
              "    </tr>\n",
              "    <tr>\n",
              "      <th>2</th>\n",
              "      <td>MANAGEMENT</td>\n",
              "      <td>Legislators</td>\n",
              "      <td>8</td>\n",
              "      <td>Na</td>\n",
              "      <td>5</td>\n",
              "      <td>Na</td>\n",
              "      <td>4</td>\n",
              "      <td>Na</td>\n",
              "    </tr>\n",
              "    <tr>\n",
              "      <th>3</th>\n",
              "      <td>MANAGEMENT</td>\n",
              "      <td>Advertising and promotions managers</td>\n",
              "      <td>55</td>\n",
              "      <td>1050</td>\n",
              "      <td>29</td>\n",
              "      <td>Na</td>\n",
              "      <td>26</td>\n",
              "      <td>Na</td>\n",
              "    </tr>\n",
              "    <tr>\n",
              "      <th>4</th>\n",
              "      <td>MANAGEMENT</td>\n",
              "      <td>Marketing and sales managers</td>\n",
              "      <td>948</td>\n",
              "      <td>1462</td>\n",
              "      <td>570</td>\n",
              "      <td>1603</td>\n",
              "      <td>378</td>\n",
              "      <td>1258</td>\n",
              "    </tr>\n",
              "  </tbody>\n",
              "</table>\n",
              "</div>"
            ],
            "text/plain": [
              "     Category                           Occupation  ...  F_workers F_weekly\n",
              "0  MANAGEMENT                     Chief executives  ...        283     1836\n",
              "1  MANAGEMENT      General and operations managers  ...        202     1002\n",
              "2  MANAGEMENT                          Legislators  ...          4       Na\n",
              "3  MANAGEMENT  Advertising and promotions managers  ...         26       Na\n",
              "4  MANAGEMENT         Marketing and sales managers  ...        378     1258\n",
              "\n",
              "[5 rows x 8 columns]"
            ]
          },
          "metadata": {
            "tags": []
          },
          "execution_count": 5
        }
      ]
    },
    {
      "cell_type": "code",
      "metadata": {
        "id": "fwV1fLT4cMhc",
        "colab_type": "code",
        "colab": {
          "base_uri": "https://localhost:8080/",
          "height": 419
        },
        "outputId": "992e20f3-2ceb-4ff1-c942-49a364d7d9f4"
      },
      "source": [
        "df"
      ],
      "execution_count": 16,
      "outputs": [
        {
          "output_type": "execute_result",
          "data": {
            "text/html": [
              "<div>\n",
              "<style scoped>\n",
              "    .dataframe tbody tr th:only-of-type {\n",
              "        vertical-align: middle;\n",
              "    }\n",
              "\n",
              "    .dataframe tbody tr th {\n",
              "        vertical-align: top;\n",
              "    }\n",
              "\n",
              "    .dataframe thead th {\n",
              "        text-align: right;\n",
              "    }\n",
              "</style>\n",
              "<table border=\"1\" class=\"dataframe\">\n",
              "  <thead>\n",
              "    <tr style=\"text-align: right;\">\n",
              "      <th></th>\n",
              "      <th>Category</th>\n",
              "      <th>Occupation</th>\n",
              "      <th>All_workers</th>\n",
              "      <th>All_weekly</th>\n",
              "      <th>M_workers</th>\n",
              "      <th>M_weekly</th>\n",
              "      <th>F_workers</th>\n",
              "      <th>F_weekly</th>\n",
              "    </tr>\n",
              "  </thead>\n",
              "  <tbody>\n",
              "    <tr>\n",
              "      <th>0</th>\n",
              "      <td>MANAGEMENT</td>\n",
              "      <td>Chief executives</td>\n",
              "      <td>1046</td>\n",
              "      <td>2041</td>\n",
              "      <td>763</td>\n",
              "      <td>2251</td>\n",
              "      <td>283</td>\n",
              "      <td>1836</td>\n",
              "    </tr>\n",
              "    <tr>\n",
              "      <th>1</th>\n",
              "      <td>MANAGEMENT</td>\n",
              "      <td>General and operations managers</td>\n",
              "      <td>823</td>\n",
              "      <td>1260</td>\n",
              "      <td>621</td>\n",
              "      <td>1347</td>\n",
              "      <td>202</td>\n",
              "      <td>1002</td>\n",
              "    </tr>\n",
              "    <tr>\n",
              "      <th>2</th>\n",
              "      <td>MANAGEMENT</td>\n",
              "      <td>Legislators</td>\n",
              "      <td>8</td>\n",
              "      <td>Na</td>\n",
              "      <td>5</td>\n",
              "      <td>Na</td>\n",
              "      <td>4</td>\n",
              "      <td>Na</td>\n",
              "    </tr>\n",
              "    <tr>\n",
              "      <th>3</th>\n",
              "      <td>MANAGEMENT</td>\n",
              "      <td>Advertising and promotions managers</td>\n",
              "      <td>55</td>\n",
              "      <td>1050</td>\n",
              "      <td>29</td>\n",
              "      <td>Na</td>\n",
              "      <td>26</td>\n",
              "      <td>Na</td>\n",
              "    </tr>\n",
              "    <tr>\n",
              "      <th>4</th>\n",
              "      <td>MANAGEMENT</td>\n",
              "      <td>Marketing and sales managers</td>\n",
              "      <td>948</td>\n",
              "      <td>1462</td>\n",
              "      <td>570</td>\n",
              "      <td>1603</td>\n",
              "      <td>378</td>\n",
              "      <td>1258</td>\n",
              "    </tr>\n",
              "    <tr>\n",
              "      <th>...</th>\n",
              "      <td>...</td>\n",
              "      <td>...</td>\n",
              "      <td>...</td>\n",
              "      <td>...</td>\n",
              "      <td>...</td>\n",
              "      <td>...</td>\n",
              "      <td>...</td>\n",
              "      <td>...</td>\n",
              "    </tr>\n",
              "    <tr>\n",
              "      <th>531</th>\n",
              "      <td>TRANSPORTATION</td>\n",
              "      <td>Pumping station operators</td>\n",
              "      <td>18</td>\n",
              "      <td>Na</td>\n",
              "      <td>17</td>\n",
              "      <td>Na</td>\n",
              "      <td>1</td>\n",
              "      <td>Na</td>\n",
              "    </tr>\n",
              "    <tr>\n",
              "      <th>532</th>\n",
              "      <td>TRANSPORTATION</td>\n",
              "      <td>Refuse and recyclable material collectors</td>\n",
              "      <td>72</td>\n",
              "      <td>501</td>\n",
              "      <td>66</td>\n",
              "      <td>496</td>\n",
              "      <td>6</td>\n",
              "      <td>Na</td>\n",
              "    </tr>\n",
              "    <tr>\n",
              "      <th>533</th>\n",
              "      <td>TRANSPORTATION</td>\n",
              "      <td>Mine shuttle car operators</td>\n",
              "      <td>0</td>\n",
              "      <td>Na</td>\n",
              "      <td>0</td>\n",
              "      <td>Na</td>\n",
              "      <td>0</td>\n",
              "      <td>Na</td>\n",
              "    </tr>\n",
              "    <tr>\n",
              "      <th>534</th>\n",
              "      <td>TRANSPORTATION</td>\n",
              "      <td>Tank car, truck, and ship loaders</td>\n",
              "      <td>6</td>\n",
              "      <td>Na</td>\n",
              "      <td>6</td>\n",
              "      <td>Na</td>\n",
              "      <td>0</td>\n",
              "      <td>Na</td>\n",
              "    </tr>\n",
              "    <tr>\n",
              "      <th>535</th>\n",
              "      <td>TRANSPORTATION</td>\n",
              "      <td>Material moving workers, all other</td>\n",
              "      <td>37</td>\n",
              "      <td>Na</td>\n",
              "      <td>32</td>\n",
              "      <td>Na</td>\n",
              "      <td>5</td>\n",
              "      <td>Na</td>\n",
              "    </tr>\n",
              "  </tbody>\n",
              "</table>\n",
              "<p>536 rows × 8 columns</p>\n",
              "</div>"
            ],
            "text/plain": [
              "           Category  ... F_weekly\n",
              "0        MANAGEMENT  ...     1836\n",
              "1        MANAGEMENT  ...     1002\n",
              "2        MANAGEMENT  ...       Na\n",
              "3        MANAGEMENT  ...       Na\n",
              "4        MANAGEMENT  ...     1258\n",
              "..              ...  ...      ...\n",
              "531  TRANSPORTATION  ...       Na\n",
              "532  TRANSPORTATION  ...       Na\n",
              "533  TRANSPORTATION  ...       Na\n",
              "534  TRANSPORTATION  ...       Na\n",
              "535  TRANSPORTATION  ...       Na\n",
              "\n",
              "[536 rows x 8 columns]"
            ]
          },
          "metadata": {
            "tags": []
          },
          "execution_count": 16
        }
      ]
    },
    {
      "cell_type": "code",
      "metadata": {
        "id": "JPh8R_rLWv1g",
        "colab_type": "code",
        "colab": {
          "base_uri": "https://localhost:8080/",
          "height": 34
        },
        "outputId": "2befbb32-d0e8-430d-c5d6-67f42f3d88d0"
      },
      "source": [
        "df.shape"
      ],
      "execution_count": 6,
      "outputs": [
        {
          "output_type": "execute_result",
          "data": {
            "text/plain": [
              "(536, 8)"
            ]
          },
          "metadata": {
            "tags": []
          },
          "execution_count": 6
        }
      ]
    },
    {
      "cell_type": "code",
      "metadata": {
        "id": "ouAzJz3OZMBN",
        "colab_type": "code",
        "colab": {
          "base_uri": "https://localhost:8080/",
          "height": 68
        },
        "outputId": "546ea6b5-59cb-4920-eb27-454bbaff5887"
      },
      "source": [
        "df.columns"
      ],
      "execution_count": 7,
      "outputs": [
        {
          "output_type": "execute_result",
          "data": {
            "text/plain": [
              "Index(['Category', 'Occupation', 'All_workers', 'All_weekly', 'M_workers',\n",
              "       'M_weekly', 'F_workers', 'F_weekly'],\n",
              "      dtype='object')"
            ]
          },
          "metadata": {
            "tags": []
          },
          "execution_count": 7
        }
      ]
    },
    {
      "cell_type": "code",
      "metadata": {
        "id": "TzNHiNfMZPvb",
        "colab_type": "code",
        "colab": {
          "base_uri": "https://localhost:8080/",
          "height": 391
        },
        "outputId": "def0ea15-6a9f-469f-aa5f-a41e1eccfc60"
      },
      "source": [
        "\n",
        "df.Category.value_counts()"
      ],
      "execution_count": 10,
      "outputs": [
        {
          "output_type": "execute_result",
          "data": {
            "text/plain": [
              "PRODUCTION                 81\n",
              "OFFICE                     52\n",
              "CONSTRUCTION               40\n",
              "MAINTENANCE                37\n",
              "TRANSPORTATION             36\n",
              "HEALTHCARE PROFESSIONAL    33\n",
              "MANAGEMENT                 30\n",
              "BUSINESS                   28\n",
              "SCIENCE                    23\n",
              "ENGINEERING                21\n",
              "SERVICE                    20\n",
              "ARTS                       19\n",
              "PROTECTIVE SERVICE         18\n",
              "SALES                      18\n",
              "COMPUTATIONAL              16\n",
              "SOCIAL SERVICE             14\n",
              "CULINARY                   13\n",
              "EDUCATION                  11\n",
              "HEALTHCARE SUPPORT         11\n",
              "AGRICULTURAL                9\n",
              "GROUNDSKEEPING              6\n",
              "Name: Category, dtype: int64"
            ]
          },
          "metadata": {
            "tags": []
          },
          "execution_count": 10
        }
      ]
    },
    {
      "cell_type": "code",
      "metadata": {
        "id": "yZB61NSqZqQl",
        "colab_type": "code",
        "colab": {
          "base_uri": "https://localhost:8080/",
          "height": 418
        },
        "outputId": "b0e7a2f6-1e35-4058-e811-a23a1a2f1d3f"
      },
      "source": [
        "df.Category.value_counts().plot.bar()"
      ],
      "execution_count": 12,
      "outputs": [
        {
          "output_type": "execute_result",
          "data": {
            "text/plain": [
              "<matplotlib.axes._subplots.AxesSubplot at 0x7f95818c18d0>"
            ]
          },
          "metadata": {
            "tags": []
          },
          "execution_count": 12
        },
        {
          "output_type": "display_data",
          "data": {
            "image/png": "[encoded data removed]",
            "text/plain": [
              "<Figure size 432x288 with 1 Axes>"
            ]
          },
          "metadata": {
            "tags": []
          }
        }
      ]
    },
    {
      "cell_type": "code",
      "metadata": {
        "id": "XNCu8KPPaH5L",
        "colab_type": "code",
        "colab": {
          "base_uri": "https://localhost:8080/",
          "height": 297
        },
        "outputId": "0a4bc735-ccdf-494e-b4eb-ef2350517d75"
      },
      "source": [
        "df.describe()"
      ],
      "execution_count": 13,
      "outputs": [
        {
          "output_type": "execute_result",
          "data": {
            "text/html": [
              "<div>\n",
              "<style scoped>\n",
              "    .dataframe tbody tr th:only-of-type {\n",
              "        vertical-align: middle;\n",
              "    }\n",
              "\n",
              "    .dataframe tbody tr th {\n",
              "        vertical-align: top;\n",
              "    }\n",
              "\n",
              "    .dataframe thead th {\n",
              "        text-align: right;\n",
              "    }\n",
              "</style>\n",
              "<table border=\"1\" class=\"dataframe\">\n",
              "  <thead>\n",
              "    <tr style=\"text-align: right;\">\n",
              "      <th></th>\n",
              "      <th>All_workers</th>\n",
              "      <th>M_workers</th>\n",
              "      <th>F_workers</th>\n",
              "    </tr>\n",
              "  </thead>\n",
              "  <tbody>\n",
              "    <tr>\n",
              "      <th>count</th>\n",
              "      <td>536.000000</td>\n",
              "      <td>536.000000</td>\n",
              "      <td>536.000000</td>\n",
              "    </tr>\n",
              "    <tr>\n",
              "      <th>mean</th>\n",
              "      <td>206.024254</td>\n",
              "      <td>114.498134</td>\n",
              "      <td>91.490672</td>\n",
              "    </tr>\n",
              "    <tr>\n",
              "      <th>std</th>\n",
              "      <td>382.499064</td>\n",
              "      <td>229.333704</td>\n",
              "      <td>228.794729</td>\n",
              "    </tr>\n",
              "    <tr>\n",
              "      <th>min</th>\n",
              "      <td>0.000000</td>\n",
              "      <td>0.000000</td>\n",
              "      <td>0.000000</td>\n",
              "    </tr>\n",
              "    <tr>\n",
              "      <th>25%</th>\n",
              "      <td>20.000000</td>\n",
              "      <td>11.000000</td>\n",
              "      <td>2.750000</td>\n",
              "    </tr>\n",
              "    <tr>\n",
              "      <th>50%</th>\n",
              "      <td>63.000000</td>\n",
              "      <td>32.000000</td>\n",
              "      <td>16.000000</td>\n",
              "    </tr>\n",
              "    <tr>\n",
              "      <th>75%</th>\n",
              "      <td>191.500000</td>\n",
              "      <td>101.750000</td>\n",
              "      <td>69.000000</td>\n",
              "    </tr>\n",
              "    <tr>\n",
              "      <th>max</th>\n",
              "      <td>2806.000000</td>\n",
              "      <td>2582.000000</td>\n",
              "      <td>2262.000000</td>\n",
              "    </tr>\n",
              "  </tbody>\n",
              "</table>\n",
              "</div>"
            ],
            "text/plain": [
              "       All_workers    M_workers    F_workers\n",
              "count   536.000000   536.000000   536.000000\n",
              "mean    206.024254   114.498134    91.490672\n",
              "std     382.499064   229.333704   228.794729\n",
              "min       0.000000     0.000000     0.000000\n",
              "25%      20.000000    11.000000     2.750000\n",
              "50%      63.000000    32.000000    16.000000\n",
              "75%     191.500000   101.750000    69.000000\n",
              "max    2806.000000  2582.000000  2262.000000"
            ]
          },
          "metadata": {
            "tags": []
          },
          "execution_count": 13
        }
      ]
    },
    {
      "cell_type": "code",
      "metadata": {
        "id": "uCBH5QvIavzr",
        "colab_type": "code",
        "colab": {
          "base_uri": "https://localhost:8080/",
          "height": 170
        },
        "outputId": "4cd23987-b078-475a-a651-df2ec5bd5ff5"
      },
      "source": [
        "df.dtypes"
      ],
      "execution_count": 14,
      "outputs": [
        {
          "output_type": "execute_result",
          "data": {
            "text/plain": [
              "Category       object\n",
              "Occupation     object\n",
              "All_workers     int64\n",
              "All_weekly     object\n",
              "M_workers       int64\n",
              "M_weekly       object\n",
              "F_workers       int64\n",
              "F_weekly       object\n",
              "dtype: object"
            ]
          },
          "metadata": {
            "tags": []
          },
          "execution_count": 14
        }
      ]
    },
    {
      "cell_type": "code",
      "metadata": {
        "id": "yLeH4-6ibDTo",
        "colab_type": "code",
        "colab": {}
      },
      "source": [
        "\n",
        "df.All_weekly = pd.to_numeric(df.All_weekly, errors='coerce')"
      ],
      "execution_count": 0,
      "outputs": []
    },
    {
      "cell_type": "code",
      "metadata": {
        "id": "9C1wpXxFchyY",
        "colab_type": "code",
        "colab": {}
      },
      "source": [
        "df.F_weekly = pd.to_numeric(df.F_weekly, errors='coerce')"
      ],
      "execution_count": 0,
      "outputs": []
    },
    {
      "cell_type": "code",
      "metadata": {
        "id": "Tyb7XoxHcywT",
        "colab_type": "code",
        "colab": {}
      },
      "source": [
        "df.M_weekly = pd.to_numeric(df.M_weekly, errors='coerce')"
      ],
      "execution_count": 0,
      "outputs": []
    },
    {
      "cell_type": "code",
      "metadata": {
        "id": "59xhMrmHc18L",
        "colab_type": "code",
        "colab": {
          "base_uri": "https://localhost:8080/",
          "height": 170
        },
        "outputId": "eeb3cbf0-1043-427a-8f17-14841a58fcd0"
      },
      "source": [
        "df.dtypes"
      ],
      "execution_count": 22,
      "outputs": [
        {
          "output_type": "execute_result",
          "data": {
            "text/plain": [
              "Category        object\n",
              "Occupation      object\n",
              "All_workers      int64\n",
              "All_weekly     float64\n",
              "M_workers        int64\n",
              "M_weekly       float64\n",
              "F_workers        int64\n",
              "F_weekly       float64\n",
              "dtype: object"
            ]
          },
          "metadata": {
            "tags": []
          },
          "execution_count": 22
        }
      ]
    },
    {
      "cell_type": "code",
      "metadata": {
        "id": "kmUGuAUUc4hj",
        "colab_type": "code",
        "colab": {
          "base_uri": "https://localhost:8080/",
          "height": 297
        },
        "outputId": "4cd7e613-250f-4d9b-80d4-b37101ae0a2b"
      },
      "source": [
        "df.describe()"
      ],
      "execution_count": 23,
      "outputs": [
        {
          "output_type": "execute_result",
          "data": {
            "text/html": [
              "<div>\n",
              "<style scoped>\n",
              "    .dataframe tbody tr th:only-of-type {\n",
              "        vertical-align: middle;\n",
              "    }\n",
              "\n",
              "    .dataframe tbody tr th {\n",
              "        vertical-align: top;\n",
              "    }\n",
              "\n",
              "    .dataframe thead th {\n",
              "        text-align: right;\n",
              "    }\n",
              "</style>\n",
              "<table border=\"1\" class=\"dataframe\">\n",
              "  <thead>\n",
              "    <tr style=\"text-align: right;\">\n",
              "      <th></th>\n",
              "      <th>All_workers</th>\n",
              "      <th>All_weekly</th>\n",
              "      <th>M_workers</th>\n",
              "      <th>M_weekly</th>\n",
              "      <th>F_workers</th>\n",
              "      <th>F_weekly</th>\n",
              "    </tr>\n",
              "  </thead>\n",
              "  <tbody>\n",
              "    <tr>\n",
              "      <th>count</th>\n",
              "      <td>536.000000</td>\n",
              "      <td>300.000000</td>\n",
              "      <td>536.000000</td>\n",
              "      <td>210.000000</td>\n",
              "      <td>536.000000</td>\n",
              "      <td>170.000000</td>\n",
              "    </tr>\n",
              "    <tr>\n",
              "      <th>mean</th>\n",
              "      <td>206.024254</td>\n",
              "      <td>914.476667</td>\n",
              "      <td>114.498134</td>\n",
              "      <td>1009.671429</td>\n",
              "      <td>91.490672</td>\n",
              "      <td>811.341176</td>\n",
              "    </tr>\n",
              "    <tr>\n",
              "      <th>std</th>\n",
              "      <td>382.499064</td>\n",
              "      <td>356.184654</td>\n",
              "      <td>229.333704</td>\n",
              "      <td>403.694756</td>\n",
              "      <td>228.794729</td>\n",
              "      <td>309.561746</td>\n",
              "    </tr>\n",
              "    <tr>\n",
              "      <th>min</th>\n",
              "      <td>0.000000</td>\n",
              "      <td>354.000000</td>\n",
              "      <td>0.000000</td>\n",
              "      <td>389.000000</td>\n",
              "      <td>0.000000</td>\n",
              "      <td>380.000000</td>\n",
              "    </tr>\n",
              "    <tr>\n",
              "      <th>25%</th>\n",
              "      <td>20.000000</td>\n",
              "      <td>624.000000</td>\n",
              "      <td>11.000000</td>\n",
              "      <td>678.250000</td>\n",
              "      <td>2.750000</td>\n",
              "      <td>549.500000</td>\n",
              "    </tr>\n",
              "    <tr>\n",
              "      <th>50%</th>\n",
              "      <td>63.000000</td>\n",
              "      <td>860.500000</td>\n",
              "      <td>32.000000</td>\n",
              "      <td>926.000000</td>\n",
              "      <td>16.000000</td>\n",
              "      <td>740.000000</td>\n",
              "    </tr>\n",
              "    <tr>\n",
              "      <th>75%</th>\n",
              "      <td>191.500000</td>\n",
              "      <td>1129.000000</td>\n",
              "      <td>101.750000</td>\n",
              "      <td>1264.750000</td>\n",
              "      <td>69.000000</td>\n",
              "      <td>987.500000</td>\n",
              "    </tr>\n",
              "    <tr>\n",
              "      <th>max</th>\n",
              "      <td>2806.000000</td>\n",
              "      <td>2041.000000</td>\n",
              "      <td>2582.000000</td>\n",
              "      <td>2251.000000</td>\n",
              "      <td>2262.000000</td>\n",
              "      <td>1836.000000</td>\n",
              "    </tr>\n",
              "  </tbody>\n",
              "</table>\n",
              "</div>"
            ],
            "text/plain": [
              "       All_workers   All_weekly  ...    F_workers     F_weekly\n",
              "count   536.000000   300.000000  ...   536.000000   170.000000\n",
              "mean    206.024254   914.476667  ...    91.490672   811.341176\n",
              "std     382.499064   356.184654  ...   228.794729   309.561746\n",
              "min       0.000000   354.000000  ...     0.000000   380.000000\n",
              "25%      20.000000   624.000000  ...     2.750000   549.500000\n",
              "50%      63.000000   860.500000  ...    16.000000   740.000000\n",
              "75%     191.500000  1129.000000  ...    69.000000   987.500000\n",
              "max    2806.000000  2041.000000  ...  2262.000000  1836.000000\n",
              "\n",
              "[8 rows x 6 columns]"
            ]
          },
          "metadata": {
            "tags": []
          },
          "execution_count": 23
        }
      ]
    },
    {
      "cell_type": "code",
      "metadata": {
        "id": "U0SU8BUMdc47",
        "colab_type": "code",
        "colab": {
          "base_uri": "https://localhost:8080/",
          "height": 170
        },
        "outputId": "a5a03d2a-6c1f-410f-d0b2-f144cca74f99"
      },
      "source": [
        "df.isna().sum()"
      ],
      "execution_count": 25,
      "outputs": [
        {
          "output_type": "execute_result",
          "data": {
            "text/plain": [
              "Category         0\n",
              "Occupation       0\n",
              "All_workers      0\n",
              "All_weekly     236\n",
              "M_workers        0\n",
              "M_weekly       326\n",
              "F_workers        0\n",
              "F_weekly       366\n",
              "dtype: int64"
            ]
          },
          "metadata": {
            "tags": []
          },
          "execution_count": 25
        }
      ]
    },
    {
      "cell_type": "code",
      "metadata": {
        "id": "0ydYN9MFdzIG",
        "colab_type": "code",
        "colab": {
          "base_uri": "https://localhost:8080/",
          "height": 170
        },
        "outputId": "2cc9ffe4-78bd-42f7-8fa6-b288a9a42aa0"
      },
      "source": [
        "df1 = df.copy()\n",
        "df1.dtypes"
      ],
      "execution_count": 28,
      "outputs": [
        {
          "output_type": "execute_result",
          "data": {
            "text/plain": [
              "Category        object\n",
              "Occupation      object\n",
              "All_workers      int64\n",
              "All_weekly     float64\n",
              "M_workers        int64\n",
              "M_weekly       float64\n",
              "F_workers        int64\n",
              "F_weekly       float64\n",
              "dtype: object"
            ]
          },
          "metadata": {
            "tags": []
          },
          "execution_count": 28
        }
      ]
    },
    {
      "cell_type": "code",
      "metadata": {
        "id": "Z6wqYDNkfb2s",
        "colab_type": "code",
        "colab": {
          "base_uri": "https://localhost:8080/",
          "height": 34
        },
        "outputId": "7e05179a-6cfc-4a2b-dfc1-9d0d380793a3"
      },
      "source": [
        "df_cleaned = df.dropna()\n",
        "df_cleaned.shape"
      ],
      "execution_count": 30,
      "outputs": [
        {
          "output_type": "execute_result",
          "data": {
            "text/plain": [
              "(120, 8)"
            ]
          },
          "metadata": {
            "tags": []
          },
          "execution_count": 30
        }
      ]
    },
    {
      "cell_type": "code",
      "metadata": {
        "id": "Tk6d6vhOfyEL",
        "colab_type": "code",
        "colab": {
          "base_uri": "https://localhost:8080/",
          "height": 204
        },
        "outputId": "3962b0fb-18c2-4b8a-cd63-1e7d66a10d1e"
      },
      "source": [
        "df_top_salary = df_cleaned.sort_values(by='F_weekly',ascending=False)\n",
        "df_top_salary.head(5)"
      ],
      "execution_count": 35,
      "outputs": [
        {
          "output_type": "execute_result",
          "data": {
            "text/html": [
              "<div>\n",
              "<style scoped>\n",
              "    .dataframe tbody tr th:only-of-type {\n",
              "        vertical-align: middle;\n",
              "    }\n",
              "\n",
              "    .dataframe tbody tr th {\n",
              "        vertical-align: top;\n",
              "    }\n",
              "\n",
              "    .dataframe thead th {\n",
              "        text-align: right;\n",
              "    }\n",
              "</style>\n",
              "<table border=\"1\" class=\"dataframe\">\n",
              "  <thead>\n",
              "    <tr style=\"text-align: right;\">\n",
              "      <th></th>\n",
              "      <th>Category</th>\n",
              "      <th>Occupation</th>\n",
              "      <th>All_workers</th>\n",
              "      <th>All_weekly</th>\n",
              "      <th>M_workers</th>\n",
              "      <th>M_weekly</th>\n",
              "      <th>F_workers</th>\n",
              "      <th>F_weekly</th>\n",
              "    </tr>\n",
              "  </thead>\n",
              "  <tbody>\n",
              "    <tr>\n",
              "      <th>0</th>\n",
              "      <td>MANAGEMENT</td>\n",
              "      <td>Chief executives</td>\n",
              "      <td>1046</td>\n",
              "      <td>2041.0</td>\n",
              "      <td>763</td>\n",
              "      <td>2251.0</td>\n",
              "      <td>283</td>\n",
              "      <td>1836.0</td>\n",
              "    </tr>\n",
              "    <tr>\n",
              "      <th>166</th>\n",
              "      <td>HEALTHCARE PROFESSIONAL</td>\n",
              "      <td>Pharmacists</td>\n",
              "      <td>206</td>\n",
              "      <td>1920.0</td>\n",
              "      <td>98</td>\n",
              "      <td>2117.0</td>\n",
              "      <td>108</td>\n",
              "      <td>1811.0</td>\n",
              "    </tr>\n",
              "    <tr>\n",
              "      <th>127</th>\n",
              "      <td>SOCIAL SERVICE</td>\n",
              "      <td>Lawyers</td>\n",
              "      <td>803</td>\n",
              "      <td>1886.0</td>\n",
              "      <td>503</td>\n",
              "      <td>1914.0</td>\n",
              "      <td>300</td>\n",
              "      <td>1717.0</td>\n",
              "    </tr>\n",
              "    <tr>\n",
              "      <th>7</th>\n",
              "      <td>MANAGEMENT</td>\n",
              "      <td>Computer and information systems managers</td>\n",
              "      <td>636</td>\n",
              "      <td>1728.0</td>\n",
              "      <td>466</td>\n",
              "      <td>1817.0</td>\n",
              "      <td>169</td>\n",
              "      <td>1563.0</td>\n",
              "    </tr>\n",
              "    <tr>\n",
              "      <th>167</th>\n",
              "      <td>HEALTHCARE PROFESSIONAL</td>\n",
              "      <td>Physicians and surgeons</td>\n",
              "      <td>740</td>\n",
              "      <td>1824.0</td>\n",
              "      <td>457</td>\n",
              "      <td>1915.0</td>\n",
              "      <td>283</td>\n",
              "      <td>1533.0</td>\n",
              "    </tr>\n",
              "  </tbody>\n",
              "</table>\n",
              "</div>"
            ],
            "text/plain": [
              "                    Category  ... F_weekly\n",
              "0                 MANAGEMENT  ...   1836.0\n",
              "166  HEALTHCARE PROFESSIONAL  ...   1811.0\n",
              "127           SOCIAL SERVICE  ...   1717.0\n",
              "7                 MANAGEMENT  ...   1563.0\n",
              "167  HEALTHCARE PROFESSIONAL  ...   1533.0\n",
              "\n",
              "[5 rows x 8 columns]"
            ]
          },
          "metadata": {
            "tags": []
          },
          "execution_count": 35
        }
      ]
    },
    {
      "cell_type": "code",
      "metadata": {
        "id": "t2BhdFstgvaQ",
        "colab_type": "code",
        "colab": {
          "base_uri": "https://localhost:8080/",
          "height": 450
        },
        "outputId": "85a26654-6343-4edb-b7da-06e968145d87"
      },
      "source": [
        "df_comp_salary = df_top_salary.set_index('Occupation')\n",
        "df_comp_salary"
      ],
      "execution_count": 37,
      "outputs": [
        {
          "output_type": "execute_result",
          "data": {
            "text/html": [
              "<div>\n",
              "<style scoped>\n",
              "    .dataframe tbody tr th:only-of-type {\n",
              "        vertical-align: middle;\n",
              "    }\n",
              "\n",
              "    .dataframe tbody tr th {\n",
              "        vertical-align: top;\n",
              "    }\n",
              "\n",
              "    .dataframe thead th {\n",
              "        text-align: right;\n",
              "    }\n",
              "</style>\n",
              "<table border=\"1\" class=\"dataframe\">\n",
              "  <thead>\n",
              "    <tr style=\"text-align: right;\">\n",
              "      <th></th>\n",
              "      <th>Category</th>\n",
              "      <th>All_workers</th>\n",
              "      <th>All_weekly</th>\n",
              "      <th>M_workers</th>\n",
              "      <th>M_weekly</th>\n",
              "      <th>F_workers</th>\n",
              "      <th>F_weekly</th>\n",
              "    </tr>\n",
              "    <tr>\n",
              "      <th>Occupation</th>\n",
              "      <th></th>\n",
              "      <th></th>\n",
              "      <th></th>\n",
              "      <th></th>\n",
              "      <th></th>\n",
              "      <th></th>\n",
              "      <th></th>\n",
              "    </tr>\n",
              "  </thead>\n",
              "  <tbody>\n",
              "    <tr>\n",
              "      <th>Chief executives</th>\n",
              "      <td>MANAGEMENT</td>\n",
              "      <td>1046</td>\n",
              "      <td>2041.0</td>\n",
              "      <td>763</td>\n",
              "      <td>2251.0</td>\n",
              "      <td>283</td>\n",
              "      <td>1836.0</td>\n",
              "    </tr>\n",
              "    <tr>\n",
              "      <th>Pharmacists</th>\n",
              "      <td>HEALTHCARE PROFESSIONAL</td>\n",
              "      <td>206</td>\n",
              "      <td>1920.0</td>\n",
              "      <td>98</td>\n",
              "      <td>2117.0</td>\n",
              "      <td>108</td>\n",
              "      <td>1811.0</td>\n",
              "    </tr>\n",
              "    <tr>\n",
              "      <th>Lawyers</th>\n",
              "      <td>SOCIAL SERVICE</td>\n",
              "      <td>803</td>\n",
              "      <td>1886.0</td>\n",
              "      <td>503</td>\n",
              "      <td>1914.0</td>\n",
              "      <td>300</td>\n",
              "      <td>1717.0</td>\n",
              "    </tr>\n",
              "    <tr>\n",
              "      <th>Computer and information systems managers</th>\n",
              "      <td>MANAGEMENT</td>\n",
              "      <td>636</td>\n",
              "      <td>1728.0</td>\n",
              "      <td>466</td>\n",
              "      <td>1817.0</td>\n",
              "      <td>169</td>\n",
              "      <td>1563.0</td>\n",
              "    </tr>\n",
              "    <tr>\n",
              "      <th>Physicians and surgeons</th>\n",
              "      <td>HEALTHCARE PROFESSIONAL</td>\n",
              "      <td>740</td>\n",
              "      <td>1824.0</td>\n",
              "      <td>457</td>\n",
              "      <td>1915.0</td>\n",
              "      <td>283</td>\n",
              "      <td>1533.0</td>\n",
              "    </tr>\n",
              "    <tr>\n",
              "      <th>...</th>\n",
              "      <td>...</td>\n",
              "      <td>...</td>\n",
              "      <td>...</td>\n",
              "      <td>...</td>\n",
              "      <td>...</td>\n",
              "      <td>...</td>\n",
              "      <td>...</td>\n",
              "    </tr>\n",
              "    <tr>\n",
              "      <th>Cashiers</th>\n",
              "      <td>SALES</td>\n",
              "      <td>1342</td>\n",
              "      <td>415.0</td>\n",
              "      <td>411</td>\n",
              "      <td>471.0</td>\n",
              "      <td>931</td>\n",
              "      <td>405.0</td>\n",
              "    </tr>\n",
              "    <tr>\n",
              "      <th>Cooks</th>\n",
              "      <td>CULINARY</td>\n",
              "      <td>1302</td>\n",
              "      <td>416.0</td>\n",
              "      <td>808</td>\n",
              "      <td>427.0</td>\n",
              "      <td>494</td>\n",
              "      <td>400.0</td>\n",
              "    </tr>\n",
              "    <tr>\n",
              "      <th>Miscellaneous agricultural workers</th>\n",
              "      <td>AGRICULTURAL</td>\n",
              "      <td>613</td>\n",
              "      <td>445.0</td>\n",
              "      <td>511</td>\n",
              "      <td>460.0</td>\n",
              "      <td>102</td>\n",
              "      <td>398.0</td>\n",
              "    </tr>\n",
              "    <tr>\n",
              "      <th>Food preparation workers</th>\n",
              "      <td>CULINARY</td>\n",
              "      <td>366</td>\n",
              "      <td>402.0</td>\n",
              "      <td>174</td>\n",
              "      <td>414.0</td>\n",
              "      <td>192</td>\n",
              "      <td>388.0</td>\n",
              "    </tr>\n",
              "    <tr>\n",
              "      <th>Combined food preparation and serving workers, including fast food</th>\n",
              "      <td>CULINARY</td>\n",
              "      <td>173</td>\n",
              "      <td>391.0</td>\n",
              "      <td>67</td>\n",
              "      <td>401.0</td>\n",
              "      <td>107</td>\n",
              "      <td>380.0</td>\n",
              "    </tr>\n",
              "  </tbody>\n",
              "</table>\n",
              "<p>120 rows × 7 columns</p>\n",
              "</div>"
            ],
            "text/plain": [
              "                                                                   Category  ...  F_weekly\n",
              "Occupation                                                                   ...          \n",
              "Chief executives                                                 MANAGEMENT  ...    1836.0\n",
              "Pharmacists                                         HEALTHCARE PROFESSIONAL  ...    1811.0\n",
              "Lawyers                                                      SOCIAL SERVICE  ...    1717.0\n",
              "Computer and information systems managers                        MANAGEMENT  ...    1563.0\n",
              "Physicians and surgeons                             HEALTHCARE PROFESSIONAL  ...    1533.0\n",
              "...                                                                     ...  ...       ...\n",
              "Cashiers                                                              SALES  ...     405.0\n",
              "Cooks                                                              CULINARY  ...     400.0\n",
              "Miscellaneous agricultural workers                             AGRICULTURAL  ...     398.0\n",
              "Food preparation workers                                           CULINARY  ...     388.0\n",
              "Combined food preparation and serving workers, ...                 CULINARY  ...     380.0\n",
              "\n",
              "[120 rows x 7 columns]"
            ]
          },
          "metadata": {
            "tags": []
          },
          "execution_count": 37
        }
      ]
    },
    {
      "cell_type": "code",
      "metadata": {
        "id": "0DRlmOwBiUIF",
        "colab_type": "code",
        "colab": {
          "base_uri": "https://localhost:8080/",
          "height": 450
        },
        "outputId": "22115603-2758-4e56-8961-c8376805fa2f"
      },
      "source": [
        "df_comp_salary[['F_weekly', 'M_weekly']]"
      ],
      "execution_count": 39,
      "outputs": [
        {
          "output_type": "execute_result",
          "data": {
            "text/html": [
              "<div>\n",
              "<style scoped>\n",
              "    .dataframe tbody tr th:only-of-type {\n",
              "        vertical-align: middle;\n",
              "    }\n",
              "\n",
              "    .dataframe tbody tr th {\n",
              "        vertical-align: top;\n",
              "    }\n",
              "\n",
              "    .dataframe thead th {\n",
              "        text-align: right;\n",
              "    }\n",
              "</style>\n",
              "<table border=\"1\" class=\"dataframe\">\n",
              "  <thead>\n",
              "    <tr style=\"text-align: right;\">\n",
              "      <th></th>\n",
              "      <th>F_weekly</th>\n",
              "      <th>M_weekly</th>\n",
              "    </tr>\n",
              "    <tr>\n",
              "      <th>Occupation</th>\n",
              "      <th></th>\n",
              "      <th></th>\n",
              "    </tr>\n",
              "  </thead>\n",
              "  <tbody>\n",
              "    <tr>\n",
              "      <th>Chief executives</th>\n",
              "      <td>1836.0</td>\n",
              "      <td>2251.0</td>\n",
              "    </tr>\n",
              "    <tr>\n",
              "      <th>Pharmacists</th>\n",
              "      <td>1811.0</td>\n",
              "      <td>2117.0</td>\n",
              "    </tr>\n",
              "    <tr>\n",
              "      <th>Lawyers</th>\n",
              "      <td>1717.0</td>\n",
              "      <td>1914.0</td>\n",
              "    </tr>\n",
              "    <tr>\n",
              "      <th>Computer and information systems managers</th>\n",
              "      <td>1563.0</td>\n",
              "      <td>1817.0</td>\n",
              "    </tr>\n",
              "    <tr>\n",
              "      <th>Physicians and surgeons</th>\n",
              "      <td>1533.0</td>\n",
              "      <td>1915.0</td>\n",
              "    </tr>\n",
              "    <tr>\n",
              "      <th>...</th>\n",
              "      <td>...</td>\n",
              "      <td>...</td>\n",
              "    </tr>\n",
              "    <tr>\n",
              "      <th>Cashiers</th>\n",
              "      <td>405.0</td>\n",
              "      <td>471.0</td>\n",
              "    </tr>\n",
              "    <tr>\n",
              "      <th>Cooks</th>\n",
              "      <td>400.0</td>\n",
              "      <td>427.0</td>\n",
              "    </tr>\n",
              "    <tr>\n",
              "      <th>Miscellaneous agricultural workers</th>\n",
              "      <td>398.0</td>\n",
              "      <td>460.0</td>\n",
              "    </tr>\n",
              "    <tr>\n",
              "      <th>Food preparation workers</th>\n",
              "      <td>388.0</td>\n",
              "      <td>414.0</td>\n",
              "    </tr>\n",
              "    <tr>\n",
              "      <th>Combined food preparation and serving workers, including fast food</th>\n",
              "      <td>380.0</td>\n",
              "      <td>401.0</td>\n",
              "    </tr>\n",
              "  </tbody>\n",
              "</table>\n",
              "<p>120 rows × 2 columns</p>\n",
              "</div>"
            ],
            "text/plain": [
              "                                                    F_weekly  M_weekly\n",
              "Occupation                                                            \n",
              "Chief executives                                      1836.0    2251.0\n",
              "Pharmacists                                           1811.0    2117.0\n",
              "Lawyers                                               1717.0    1914.0\n",
              "Computer and information systems managers             1563.0    1817.0\n",
              "Physicians and surgeons                               1533.0    1915.0\n",
              "...                                                      ...       ...\n",
              "Cashiers                                               405.0     471.0\n",
              "Cooks                                                  400.0     427.0\n",
              "Miscellaneous agricultural workers                     398.0     460.0\n",
              "Food preparation workers                               388.0     414.0\n",
              "Combined food preparation and serving workers, ...     380.0     401.0\n",
              "\n",
              "[120 rows x 2 columns]"
            ]
          },
          "metadata": {
            "tags": []
          },
          "execution_count": 39
        }
      ]
    },
    {
      "cell_type": "code",
      "metadata": {
        "id": "zoJ3R8C7iq2q",
        "colab_type": "code",
        "colab": {
          "base_uri": "https://localhost:8080/",
          "height": 568
        },
        "outputId": "1e0fc042-22d3-4ab4-afb3-85a8c0039386"
      },
      "source": [
        "df_comp_salary[['F_weekly', 'M_weekly']][:15].plot.bar()"
      ],
      "execution_count": 43,
      "outputs": [
        {
          "output_type": "execute_result",
          "data": {
            "text/plain": [
              "<matplotlib.axes._subplots.AxesSubplot at 0x7f9580a070f0>"
            ]
          },
          "metadata": {
            "tags": []
          },
          "execution_count": 43
        },
        {
          "output_type": "display_data",
          "data": {
            "image/png": "[encoded data removed]",
            "text/plain": [
              "<Figure size 432x288 with 1 Axes>"
            ]
          },
          "metadata": {
            "tags": []
          }
        }
      ]
    },
    {
      "cell_type": "code",
      "metadata": {
        "id": "GqkiHtBSjRZo",
        "colab_type": "code",
        "colab": {
          "base_uri": "https://localhost:8080/",
          "height": 282
        },
        "outputId": "26048eae-da3d-4ef5-c7be-9d2ff466e209"
      },
      "source": [
        "df_comp_salary[['F_weekly', 'M_weekly']][:15].plot.barh()"
      ],
      "execution_count": 44,
      "outputs": [
        {
          "output_type": "execute_result",
          "data": {
            "text/plain": [
              "<matplotlib.axes._subplots.AxesSubplot at 0x7f9580a6b208>"
            ]
          },
          "metadata": {
            "tags": []
          },
          "execution_count": 44
        },
        {
          "output_type": "display_data",
          "data": {
            "image/png": "[encoded data removed]",
            "text/plain": [
              "<Figure size 432x288 with 1 Axes>"
            ]
          },
          "metadata": {
            "tags": []
          }
        }
      ]
    },
    {
      "cell_type": "code",
      "metadata": {
        "id": "5i4fnbr9j2aG",
        "colab_type": "code",
        "colab": {
          "base_uri": "https://localhost:8080/",
          "height": 238
        },
        "outputId": "f5a596dc-5266-4957-8b17-3d07dd1e30b8"
      },
      "source": [
        "(df_comp_salary.M_weekly/df_comp_salary.F_weekly - 1)*100"
      ],
      "execution_count": 45,
      "outputs": [
        {
          "output_type": "execute_result",
          "data": {
            "text/plain": [
              "Occupation\n",
              "Chief executives                                                      22.603486\n",
              "Pharmacists                                                           16.896742\n",
              "Lawyers                                                               11.473500\n",
              "Computer and information systems managers                             16.250800\n",
              "Physicians and surgeons                                               24.918461\n",
              "                                                                        ...    \n",
              "Cashiers                                                              16.296296\n",
              "Cooks                                                                  6.750000\n",
              "Miscellaneous agricultural workers                                    15.577889\n",
              "Food preparation workers                                               6.701031\n",
              "Combined food preparation and serving workers, including fast food     5.526316\n",
              "Length: 120, dtype: float64"
            ]
          },
          "metadata": {
            "tags": []
          },
          "execution_count": 45
        }
      ]
    },
    {
      "cell_type": "code",
      "metadata": {
        "id": "cs2Ka9AemAp7",
        "colab_type": "code",
        "colab": {}
      },
      "source": [
        "df_comp_salary['delta'] = (df_comp_salary.M_weekly/df_comp_salary.F_weekly - 1)*100"
      ],
      "execution_count": 0,
      "outputs": []
    },
    {
      "cell_type": "code",
      "metadata": {
        "id": "r4e9BUuumLEs",
        "colab_type": "code",
        "colab": {
          "base_uri": "https://localhost:8080/",
          "height": 501
        },
        "outputId": "26a00754-cc3c-4ed8-deb1-e44085c991cf"
      },
      "source": [
        "df_comp_salary"
      ],
      "execution_count": 47,
      "outputs": [
        {
          "output_type": "execute_result",
          "data": {
            "text/html": [
              "<div>\n",
              "<style scoped>\n",
              "    .dataframe tbody tr th:only-of-type {\n",
              "        vertical-align: middle;\n",
              "    }\n",
              "\n",
              "    .dataframe tbody tr th {\n",
              "        vertical-align: top;\n",
              "    }\n",
              "\n",
              "    .dataframe thead th {\n",
              "        text-align: right;\n",
              "    }\n",
              "</style>\n",
              "<table border=\"1\" class=\"dataframe\">\n",
              "  <thead>\n",
              "    <tr style=\"text-align: right;\">\n",
              "      <th></th>\n",
              "      <th>Category</th>\n",
              "      <th>All_workers</th>\n",
              "      <th>All_weekly</th>\n",
              "      <th>M_workers</th>\n",
              "      <th>M_weekly</th>\n",
              "      <th>F_workers</th>\n",
              "      <th>F_weekly</th>\n",
              "      <th>delta</th>\n",
              "    </tr>\n",
              "    <tr>\n",
              "      <th>Occupation</th>\n",
              "      <th></th>\n",
              "      <th></th>\n",
              "      <th></th>\n",
              "      <th></th>\n",
              "      <th></th>\n",
              "      <th></th>\n",
              "      <th></th>\n",
              "      <th></th>\n",
              "    </tr>\n",
              "  </thead>\n",
              "  <tbody>\n",
              "    <tr>\n",
              "      <th>Chief executives</th>\n",
              "      <td>MANAGEMENT</td>\n",
              "      <td>1046</td>\n",
              "      <td>2041.0</td>\n",
              "      <td>763</td>\n",
              "      <td>2251.0</td>\n",
              "      <td>283</td>\n",
              "      <td>1836.0</td>\n",
              "      <td>22.603486</td>\n",
              "    </tr>\n",
              "    <tr>\n",
              "      <th>Pharmacists</th>\n",
              "      <td>HEALTHCARE PROFESSIONAL</td>\n",
              "      <td>206</td>\n",
              "      <td>1920.0</td>\n",
              "      <td>98</td>\n",
              "      <td>2117.0</td>\n",
              "      <td>108</td>\n",
              "      <td>1811.0</td>\n",
              "      <td>16.896742</td>\n",
              "    </tr>\n",
              "    <tr>\n",
              "      <th>Lawyers</th>\n",
              "      <td>SOCIAL SERVICE</td>\n",
              "      <td>803</td>\n",
              "      <td>1886.0</td>\n",
              "      <td>503</td>\n",
              "      <td>1914.0</td>\n",
              "      <td>300</td>\n",
              "      <td>1717.0</td>\n",
              "      <td>11.473500</td>\n",
              "    </tr>\n",
              "    <tr>\n",
              "      <th>Computer and information systems managers</th>\n",
              "      <td>MANAGEMENT</td>\n",
              "      <td>636</td>\n",
              "      <td>1728.0</td>\n",
              "      <td>466</td>\n",
              "      <td>1817.0</td>\n",
              "      <td>169</td>\n",
              "      <td>1563.0</td>\n",
              "      <td>16.250800</td>\n",
              "    </tr>\n",
              "    <tr>\n",
              "      <th>Physicians and surgeons</th>\n",
              "      <td>HEALTHCARE PROFESSIONAL</td>\n",
              "      <td>740</td>\n",
              "      <td>1824.0</td>\n",
              "      <td>457</td>\n",
              "      <td>1915.0</td>\n",
              "      <td>283</td>\n",
              "      <td>1533.0</td>\n",
              "      <td>24.918461</td>\n",
              "    </tr>\n",
              "    <tr>\n",
              "      <th>...</th>\n",
              "      <td>...</td>\n",
              "      <td>...</td>\n",
              "      <td>...</td>\n",
              "      <td>...</td>\n",
              "      <td>...</td>\n",
              "      <td>...</td>\n",
              "      <td>...</td>\n",
              "      <td>...</td>\n",
              "    </tr>\n",
              "    <tr>\n",
              "      <th>Cashiers</th>\n",
              "      <td>SALES</td>\n",
              "      <td>1342</td>\n",
              "      <td>415.0</td>\n",
              "      <td>411</td>\n",
              "      <td>471.0</td>\n",
              "      <td>931</td>\n",
              "      <td>405.0</td>\n",
              "      <td>16.296296</td>\n",
              "    </tr>\n",
              "    <tr>\n",
              "      <th>Cooks</th>\n",
              "      <td>CULINARY</td>\n",
              "      <td>1302</td>\n",
              "      <td>416.0</td>\n",
              "      <td>808</td>\n",
              "      <td>427.0</td>\n",
              "      <td>494</td>\n",
              "      <td>400.0</td>\n",
              "      <td>6.750000</td>\n",
              "    </tr>\n",
              "    <tr>\n",
              "      <th>Miscellaneous agricultural workers</th>\n",
              "      <td>AGRICULTURAL</td>\n",
              "      <td>613</td>\n",
              "      <td>445.0</td>\n",
              "      <td>511</td>\n",
              "      <td>460.0</td>\n",
              "      <td>102</td>\n",
              "      <td>398.0</td>\n",
              "      <td>15.577889</td>\n",
              "    </tr>\n",
              "    <tr>\n",
              "      <th>Food preparation workers</th>\n",
              "      <td>CULINARY</td>\n",
              "      <td>366</td>\n",
              "      <td>402.0</td>\n",
              "      <td>174</td>\n",
              "      <td>414.0</td>\n",
              "      <td>192</td>\n",
              "      <td>388.0</td>\n",
              "      <td>6.701031</td>\n",
              "    </tr>\n",
              "    <tr>\n",
              "      <th>Combined food preparation and serving workers, including fast food</th>\n",
              "      <td>CULINARY</td>\n",
              "      <td>173</td>\n",
              "      <td>391.0</td>\n",
              "      <td>67</td>\n",
              "      <td>401.0</td>\n",
              "      <td>107</td>\n",
              "      <td>380.0</td>\n",
              "      <td>5.526316</td>\n",
              "    </tr>\n",
              "  </tbody>\n",
              "</table>\n",
              "<p>120 rows × 8 columns</p>\n",
              "</div>"
            ],
            "text/plain": [
              "                                                                   Category  ...      delta\n",
              "Occupation                                                                   ...           \n",
              "Chief executives                                                 MANAGEMENT  ...  22.603486\n",
              "Pharmacists                                         HEALTHCARE PROFESSIONAL  ...  16.896742\n",
              "Lawyers                                                      SOCIAL SERVICE  ...  11.473500\n",
              "Computer and information systems managers                        MANAGEMENT  ...  16.250800\n",
              "Physicians and surgeons                             HEALTHCARE PROFESSIONAL  ...  24.918461\n",
              "...                                                                     ...  ...        ...\n",
              "Cashiers                                                              SALES  ...  16.296296\n",
              "Cooks                                                              CULINARY  ...   6.750000\n",
              "Miscellaneous agricultural workers                             AGRICULTURAL  ...  15.577889\n",
              "Food preparation workers                                           CULINARY  ...   6.701031\n",
              "Combined food preparation and serving workers, ...                 CULINARY  ...   5.526316\n",
              "\n",
              "[120 rows x 8 columns]"
            ]
          },
          "metadata": {
            "tags": []
          },
          "execution_count": 47
        }
      ]
    },
    {
      "cell_type": "code",
      "metadata": {
        "id": "7oRzhD6PmM4s",
        "colab_type": "code",
        "colab": {}
      },
      "source": [
        "df_delta = df_comp_salary[['M_weekly', 'F_weekly', 'delta']]"
      ],
      "execution_count": 0,
      "outputs": []
    },
    {
      "cell_type": "code",
      "metadata": {
        "id": "NS4AmO2Xna9i",
        "colab_type": "code",
        "colab": {
          "base_uri": "https://localhost:8080/",
          "height": 450
        },
        "outputId": "e7778a64-4474-4df0-c10a-b13f3099dea5"
      },
      "source": [
        "df_delta"
      ],
      "execution_count": 50,
      "outputs": [
        {
          "output_type": "execute_result",
          "data": {
            "text/html": [
              "<div>\n",
              "<style scoped>\n",
              "    .dataframe tbody tr th:only-of-type {\n",
              "        vertical-align: middle;\n",
              "    }\n",
              "\n",
              "    .dataframe tbody tr th {\n",
              "        vertical-align: top;\n",
              "    }\n",
              "\n",
              "    .dataframe thead th {\n",
              "        text-align: right;\n",
              "    }\n",
              "</style>\n",
              "<table border=\"1\" class=\"dataframe\">\n",
              "  <thead>\n",
              "    <tr style=\"text-align: right;\">\n",
              "      <th></th>\n",
              "      <th>M_weekly</th>\n",
              "      <th>F_weekly</th>\n",
              "      <th>delta</th>\n",
              "    </tr>\n",
              "    <tr>\n",
              "      <th>Occupation</th>\n",
              "      <th></th>\n",
              "      <th></th>\n",
              "      <th></th>\n",
              "    </tr>\n",
              "  </thead>\n",
              "  <tbody>\n",
              "    <tr>\n",
              "      <th>Chief executives</th>\n",
              "      <td>2251.0</td>\n",
              "      <td>1836.0</td>\n",
              "      <td>22.603486</td>\n",
              "    </tr>\n",
              "    <tr>\n",
              "      <th>Pharmacists</th>\n",
              "      <td>2117.0</td>\n",
              "      <td>1811.0</td>\n",
              "      <td>16.896742</td>\n",
              "    </tr>\n",
              "    <tr>\n",
              "      <th>Lawyers</th>\n",
              "      <td>1914.0</td>\n",
              "      <td>1717.0</td>\n",
              "      <td>11.473500</td>\n",
              "    </tr>\n",
              "    <tr>\n",
              "      <th>Computer and information systems managers</th>\n",
              "      <td>1817.0</td>\n",
              "      <td>1563.0</td>\n",
              "      <td>16.250800</td>\n",
              "    </tr>\n",
              "    <tr>\n",
              "      <th>Physicians and surgeons</th>\n",
              "      <td>1915.0</td>\n",
              "      <td>1533.0</td>\n",
              "      <td>24.918461</td>\n",
              "    </tr>\n",
              "    <tr>\n",
              "      <th>...</th>\n",
              "      <td>...</td>\n",
              "      <td>...</td>\n",
              "      <td>...</td>\n",
              "    </tr>\n",
              "    <tr>\n",
              "      <th>Cashiers</th>\n",
              "      <td>471.0</td>\n",
              "      <td>405.0</td>\n",
              "      <td>16.296296</td>\n",
              "    </tr>\n",
              "    <tr>\n",
              "      <th>Cooks</th>\n",
              "      <td>427.0</td>\n",
              "      <td>400.0</td>\n",
              "      <td>6.750000</td>\n",
              "    </tr>\n",
              "    <tr>\n",
              "      <th>Miscellaneous agricultural workers</th>\n",
              "      <td>460.0</td>\n",
              "      <td>398.0</td>\n",
              "      <td>15.577889</td>\n",
              "    </tr>\n",
              "    <tr>\n",
              "      <th>Food preparation workers</th>\n",
              "      <td>414.0</td>\n",
              "      <td>388.0</td>\n",
              "      <td>6.701031</td>\n",
              "    </tr>\n",
              "    <tr>\n",
              "      <th>Combined food preparation and serving workers, including fast food</th>\n",
              "      <td>401.0</td>\n",
              "      <td>380.0</td>\n",
              "      <td>5.526316</td>\n",
              "    </tr>\n",
              "  </tbody>\n",
              "</table>\n",
              "<p>120 rows × 3 columns</p>\n",
              "</div>"
            ],
            "text/plain": [
              "                                                    M_weekly  ...      delta\n",
              "Occupation                                                    ...           \n",
              "Chief executives                                      2251.0  ...  22.603486\n",
              "Pharmacists                                           2117.0  ...  16.896742\n",
              "Lawyers                                               1914.0  ...  11.473500\n",
              "Computer and information systems managers             1817.0  ...  16.250800\n",
              "Physicians and surgeons                               1915.0  ...  24.918461\n",
              "...                                                      ...  ...        ...\n",
              "Cashiers                                               471.0  ...  16.296296\n",
              "Cooks                                                  427.0  ...   6.750000\n",
              "Miscellaneous agricultural workers                     460.0  ...  15.577889\n",
              "Food preparation workers                               414.0  ...   6.701031\n",
              "Combined food preparation and serving workers, ...     401.0  ...   5.526316\n",
              "\n",
              "[120 rows x 3 columns]"
            ]
          },
          "metadata": {
            "tags": []
          },
          "execution_count": 50
        }
      ]
    },
    {
      "cell_type": "code",
      "metadata": {
        "id": "c5ovZFLYnijg",
        "colab_type": "code",
        "colab": {
          "base_uri": "https://localhost:8080/",
          "height": 450
        },
        "outputId": "96f5b845-60e1-4598-963a-dbc1a86ae183"
      },
      "source": [
        "df_delta.sort_values(by='delta', ascending=False)"
      ],
      "execution_count": 52,
      "outputs": [
        {
          "output_type": "execute_result",
          "data": {
            "text/html": [
              "<div>\n",
              "<style scoped>\n",
              "    .dataframe tbody tr th:only-of-type {\n",
              "        vertical-align: middle;\n",
              "    }\n",
              "\n",
              "    .dataframe tbody tr th {\n",
              "        vertical-align: top;\n",
              "    }\n",
              "\n",
              "    .dataframe thead th {\n",
              "        text-align: right;\n",
              "    }\n",
              "</style>\n",
              "<table border=\"1\" class=\"dataframe\">\n",
              "  <thead>\n",
              "    <tr style=\"text-align: right;\">\n",
              "      <th></th>\n",
              "      <th>M_weekly</th>\n",
              "      <th>F_weekly</th>\n",
              "      <th>delta</th>\n",
              "    </tr>\n",
              "    <tr>\n",
              "      <th>Occupation</th>\n",
              "      <th></th>\n",
              "      <th></th>\n",
              "      <th></th>\n",
              "    </tr>\n",
              "  </thead>\n",
              "  <tbody>\n",
              "    <tr>\n",
              "      <th>Securities, commodities, and financial services sales agents</th>\n",
              "      <td>1461.0</td>\n",
              "      <td>767.0</td>\n",
              "      <td>90.482399</td>\n",
              "    </tr>\n",
              "    <tr>\n",
              "      <th>Personal financial advisors</th>\n",
              "      <td>1738.0</td>\n",
              "      <td>1033.0</td>\n",
              "      <td>68.247822</td>\n",
              "    </tr>\n",
              "    <tr>\n",
              "      <th>LEGAL</th>\n",
              "      <td>1877.0</td>\n",
              "      <td>1135.0</td>\n",
              "      <td>65.374449</td>\n",
              "    </tr>\n",
              "    <tr>\n",
              "      <th>Sales representatives, services, all other</th>\n",
              "      <td>1147.0</td>\n",
              "      <td>699.0</td>\n",
              "      <td>64.091559</td>\n",
              "    </tr>\n",
              "    <tr>\n",
              "      <th>Advertising sales agents</th>\n",
              "      <td>1155.0</td>\n",
              "      <td>729.0</td>\n",
              "      <td>58.436214</td>\n",
              "    </tr>\n",
              "    <tr>\n",
              "      <th>...</th>\n",
              "      <td>...</td>\n",
              "      <td>...</td>\n",
              "      <td>...</td>\n",
              "    </tr>\n",
              "    <tr>\n",
              "      <th>Bookkeeping, accounting, and auditing clerks</th>\n",
              "      <td>690.0</td>\n",
              "      <td>692.0</td>\n",
              "      <td>-0.289017</td>\n",
              "    </tr>\n",
              "    <tr>\n",
              "      <th>Police and sheriff's patrol officers</th>\n",
              "      <td>1001.0</td>\n",
              "      <td>1009.0</td>\n",
              "      <td>-0.792864</td>\n",
              "    </tr>\n",
              "    <tr>\n",
              "      <th>Office clerks, general</th>\n",
              "      <td>609.0</td>\n",
              "      <td>622.0</td>\n",
              "      <td>-2.090032</td>\n",
              "    </tr>\n",
              "    <tr>\n",
              "      <th>Data entry keyers</th>\n",
              "      <td>589.0</td>\n",
              "      <td>638.0</td>\n",
              "      <td>-7.680251</td>\n",
              "    </tr>\n",
              "    <tr>\n",
              "      <th>Wholesale and retail buyers, except farm products</th>\n",
              "      <td>886.0</td>\n",
              "      <td>985.0</td>\n",
              "      <td>-10.050761</td>\n",
              "    </tr>\n",
              "  </tbody>\n",
              "</table>\n",
              "<p>120 rows × 3 columns</p>\n",
              "</div>"
            ],
            "text/plain": [
              "                                                    M_weekly  ...      delta\n",
              "Occupation                                                    ...           \n",
              "Securities, commodities, and financial services...    1461.0  ...  90.482399\n",
              "Personal financial advisors                           1738.0  ...  68.247822\n",
              "LEGAL                                                 1877.0  ...  65.374449\n",
              "Sales representatives, services, all other            1147.0  ...  64.091559\n",
              "Advertising sales agents                              1155.0  ...  58.436214\n",
              "...                                                      ...  ...        ...\n",
              "Bookkeeping, accounting, and auditing clerks           690.0  ...  -0.289017\n",
              "Police and sheriff's patrol officers                  1001.0  ...  -0.792864\n",
              "Office clerks, general                                 609.0  ...  -2.090032\n",
              "Data entry keyers                                      589.0  ...  -7.680251\n",
              "Wholesale and retail buyers, except farm products      886.0  ... -10.050761\n",
              "\n",
              "[120 rows x 3 columns]"
            ]
          },
          "metadata": {
            "tags": []
          },
          "execution_count": 52
        }
      ]
    },
    {
      "cell_type": "code",
      "metadata": {
        "id": "0j0NZwxrnwOB",
        "colab_type": "code",
        "colab": {
          "base_uri": "https://localhost:8080/",
          "height": 282
        },
        "outputId": "bb8d9c80-4e06-4e0d-ffb5-7ef038d1f51c"
      },
      "source": [
        "df_delta.sort_values(by='delta', ascending=False)[:15].plot.barh(y='delta')"
      ],
      "execution_count": 58,
      "outputs": [
        {
          "output_type": "execute_result",
          "data": {
            "text/plain": [
              "<matplotlib.axes._subplots.AxesSubplot at 0x7f957ecb40b8>"
            ]
          },
          "metadata": {
            "tags": []
          },
          "execution_count": 58
        },
        {
          "output_type": "display_data",
          "data": {
            "image/png": "[encoded data removed]",
            "text/plain": [
              "<Figure size 432x288 with 1 Axes>"
            ]
          },
          "metadata": {
            "tags": []
          }
        }
      ]
    },
    {
      "cell_type": "code",
      "metadata": {
        "id": "RmbmkbDao7Sw",
        "colab_type": "code",
        "colab": {
          "base_uri": "https://localhost:8080/",
          "height": 282
        },
        "outputId": "5458aa7a-bb8c-4e24-b979-042d4fd68c7b"
      },
      "source": [
        "df_delta.sort_values(by='delta', ascending=True)[:15].plot.barh(y='delta')"
      ],
      "execution_count": 59,
      "outputs": [
        {
          "output_type": "execute_result",
          "data": {
            "text/plain": [
              "<matplotlib.axes._subplots.AxesSubplot at 0x7f957ec47438>"
            ]
          },
          "metadata": {
            "tags": []
          },
          "execution_count": 59
        },
        {
          "output_type": "display_data",
          "data": {
            "image/png": "[encoded data removed]",
            "text/plain": [
              "<Figure size 432x288 with 1 Axes>"
            ]
          },
          "metadata": {
            "tags": []
          }
        }
      ]
    },
    {
      "cell_type": "code",
      "metadata": {
        "id": "mQCJHzCMp_tD",
        "colab_type": "code",
        "colab": {}
      },
      "source": [
        "import seaborn as sns\n",
        "sns.set()\n"
      ],
      "execution_count": 0,
      "outputs": []
    },
    {
      "cell_type": "code",
      "metadata": {
        "id": "pAlNyG8arAvl",
        "colab_type": "code",
        "colab": {
          "base_uri": "https://localhost:8080/",
          "height": 285
        },
        "outputId": "df8ec1e4-3f94-4cf6-ba45-a1b22a707901"
      },
      "source": [
        "df_delta.sort_values(by='delta', ascending=False)[:15].plot.barh(y='delta')"
      ],
      "execution_count": 65,
      "outputs": [
        {
          "output_type": "execute_result",
          "data": {
            "text/plain": [
              "<matplotlib.axes._subplots.AxesSubplot at 0x7f9570cc7f98>"
            ]
          },
          "metadata": {
            "tags": []
          },
          "execution_count": 65
        },
        {
          "output_type": "display_data",
          "data": {
            "image/png": "[encoded data removed]",
            "text/plain": [
              "<Figure size 432x288 with 1 Axes>"
            ]
          },
          "metadata": {
            "tags": []
          }
        }
      ]
    },
    {
      "cell_type": "code",
      "metadata": {
        "id": "s0VIYttgrQc4",
        "colab_type": "code",
        "colab": {
          "base_uri": "https://localhost:8080/",
          "height": 268
        },
        "outputId": "27a23102-fb26-4a5b-e9f2-7faf841b7e1a"
      },
      "source": [
        "from matplotlib import pyplot as plt\n",
        "df_delta.sort_values(by='delta', ascending=False)[:15].plot.barh(y='delta')\n",
        "plt.savefig('test.png')"
      ],
      "execution_count": 66,
      "outputs": [
        {
          "output_type": "display_data",
          "data": {
            "image/png": "[encoded data removed]",
            "text/plain": [
              "<Figure size 432x288 with 1 Axes>"
            ]
          },
          "metadata": {
            "tags": []
          }
        }
      ]
    },
    {
      "cell_type": "code",
      "metadata": {
        "id": "KCZl0SGesi8Y",
        "colab_type": "code",
        "colab": {}
      },
      "source": [
        ""
      ],
      "execution_count": 0,
      "outputs": []
    }
  ]
}